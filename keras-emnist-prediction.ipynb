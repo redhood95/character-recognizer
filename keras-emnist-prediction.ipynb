{
 "cells": [
  {
   "cell_type": "code",
   "execution_count": 1,
   "metadata": {},
   "outputs": [
    {
     "name": "stderr",
     "output_type": "stream",
     "text": [
      "/home/yash/anaconda3/lib/python3.6/site-packages/h5py/__init__.py:34: FutureWarning: Conversion of the second argument of issubdtype from `float` to `np.floating` is deprecated. In future, it will be treated as `np.float64 == np.dtype(float).type`.\n",
      "  from ._conv import register_converters as _register_converters\n",
      "Using TensorFlow backend.\n"
     ]
    }
   ],
   "source": [
    "import os\n",
    "os.environ['TF_CPP_MIN_LOG_LEVEL'] = '3'\n",
    "\n",
    "from flask import Flask, request, render_template, jsonify\n",
    "from scipy.misc import imsave, imread, imresize\n",
    "import numpy as np\n",
    "import argparse\n",
    "from keras.models import model_from_yaml\n",
    "import re\n",
    "import base64\n",
    "import pickle"
   ]
  },
  {
   "cell_type": "code",
   "execution_count": 2,
   "metadata": {},
   "outputs": [],
   "source": [
    "def load_model(bin_dir):\n",
    "    ''' Load model from .yaml and the weights from .h5\n",
    "\n",
    "        Arguments:\n",
    "            bin_dir: The directory of the bin (normally bin/)\n",
    "\n",
    "        Returns:\n",
    "            Loaded model from file\n",
    "    '''\n",
    "\n",
    "    # load YAML and create model\n",
    "    yaml_file = open('%s/model.yaml' % bin_dir, 'r')\n",
    "    loaded_model_yaml = yaml_file.read()\n",
    "    yaml_file.close()\n",
    "    model = model_from_yaml(loaded_model_yaml)\n",
    "\n",
    "    # load weights into new model\n",
    "    model.load_weights('%s/model.h5' % bin_dir)\n",
    "    return model"
   ]
  },
  {
   "cell_type": "code",
   "execution_count": 24,
   "metadata": {},
   "outputs": [],
   "source": [
    "def predict(x):\n",
    "    \n",
    "    # read parsed image back in 8-bit, black and white mode (L)\n",
    "    x = np.invert(x)\n",
    "\n",
    "    ### Experimental\n",
    "    # Crop on rows\n",
    "    # x = crop(x)\n",
    "    # x = x.T\n",
    "    # Crop on columns\n",
    "    # x = crop(x)\n",
    "    # x = x.T\n",
    "\n",
    "    # Visualize new array\n",
    "    imsave('resized.png', x)\n",
    "    x = imresize(x,(28,28))\n",
    "\n",
    "    # reshape image data for use in neural network\n",
    "    x = x.reshape(1,28,28,1)\n",
    "\n",
    "    # Convert type to float32\n",
    "    x = x.astype('float32')\n",
    "\n",
    "    # Normalize to prevent issues with model\n",
    "    x /= 255\n",
    "\n",
    "    # Predict from model\n",
    "    out = model.predict(x)\n",
    "\n",
    "    # Generate response\n",
    "    response = {'prediction': chr(mapping[(int(np.argmax(out, axis=1)[0]))]),\n",
    "                'confidence': str(max(out[0]) * 100)[:6]}\n",
    "\n",
    "    return response\n"
   ]
  },
  {
   "cell_type": "code",
   "execution_count": 13,
   "metadata": {},
   "outputs": [],
   "source": [
    "model = load_model('bin/')\n"
   ]
  },
  {
   "cell_type": "code",
   "execution_count": 9,
   "metadata": {},
   "outputs": [],
   "source": [
    "mapping = pickle.load(open('%s/mapping.p' % 'bin/', 'rb'))"
   ]
  },
  {
   "cell_type": "code",
   "execution_count": 28,
   "metadata": {},
   "outputs": [],
   "source": [
    "x = imread('7.jpg', mode='L')\n"
   ]
  },
  {
   "cell_type": "code",
   "execution_count": 29,
   "metadata": {},
   "outputs": [
    {
     "name": "stderr",
     "output_type": "stream",
     "text": [
      "/home/yash/anaconda3/lib/python3.6/site-packages/scipy/misc/pilutil.py:482: FutureWarning: Conversion of the second argument of issubdtype from `int` to `np.signedinteger` is deprecated. In future, it will be treated as `np.int64 == np.dtype(int).type`.\n",
      "  if issubdtype(ts, int):\n",
      "/home/yash/anaconda3/lib/python3.6/site-packages/scipy/misc/pilutil.py:485: FutureWarning: Conversion of the second argument of issubdtype from `float` to `np.floating` is deprecated. In future, it will be treated as `np.float64 == np.dtype(float).type`.\n",
      "  elif issubdtype(type(size), float):\n"
     ]
    },
    {
     "data": {
      "text/plain": [
       "{'confidence': '94.883', 'prediction': '7'}"
      ]
     },
     "execution_count": 29,
     "metadata": {},
     "output_type": "execute_result"
    }
   ],
   "source": [
    "predict(x)"
   ]
  },
  {
   "cell_type": "code",
   "execution_count": null,
   "metadata": {},
   "outputs": [],
   "source": []
  }
 ],
 "metadata": {
  "kernelspec": {
   "display_name": "Python 3",
   "language": "python",
   "name": "python3"
  },
  "language_info": {
   "codemirror_mode": {
    "name": "ipython",
    "version": 3
   },
   "file_extension": ".py",
   "mimetype": "text/x-python",
   "name": "python",
   "nbconvert_exporter": "python",
   "pygments_lexer": "ipython3",
   "version": "3.6.4"
  }
 },
 "nbformat": 4,
 "nbformat_minor": 2
}
